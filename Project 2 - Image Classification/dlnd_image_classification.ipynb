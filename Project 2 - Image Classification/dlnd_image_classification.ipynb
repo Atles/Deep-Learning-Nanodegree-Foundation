{
 "cells": [
  {
   "cell_type": "markdown",
   "metadata": {
    "collapsed": true,
    "deletable": true,
    "editable": true
   },
   "source": [
    "# Image Classification\n",
    "In this project, you'll classify images from the [CIFAR-10 dataset](https://www.cs.toronto.edu/~kriz/cifar.html).  The dataset consists of airplanes, dogs, cats, and other objects. You'll preprocess the images, then train a convolutional neural network on all the samples. The images need to be normalized and the labels need to be one-hot encoded.  You'll get to apply what you learned and build a convolutional, max pooling, dropout, and fully connected layers.  At the end, you'll get to see your neural network's predictions on the sample images.\n",
    "## Get the Data\n",
    "Run the following cell to download the [CIFAR-10 dataset for python](https://www.cs.toronto.edu/~kriz/cifar-10-python.tar.gz)."
   ]
  },
  {
   "cell_type": "code",
   "execution_count": 1,
   "metadata": {
    "collapsed": false,
    "deletable": true,
    "editable": true
   },
   "outputs": [
    {
     "name": "stdout",
     "output_type": "stream",
     "text": [
      "All files found!\n"
     ]
    }
   ],
   "source": [
    "\"\"\"\n",
    "DON'T MODIFY ANYTHING IN THIS CELL THAT IS BELOW THIS LINE\n",
    "\"\"\"\n",
    "from urllib.request import urlretrieve\n",
    "from os.path import isfile, isdir\n",
    "from tqdm import tqdm\n",
    "import problem_unittests as tests\n",
    "import tarfile\n",
    "\n",
    "cifar10_dataset_folder_path = 'cifar-10-batches-py'\n",
    "\n",
    "# Use Floyd's cifar-10 dataset if present\n",
    "floyd_cifar10_location = '/input/cifar-10/python.tar.gz'\n",
    "if isfile(floyd_cifar10_location):\n",
    "    tar_gz_path = floyd_cifar10_location\n",
    "else:\n",
    "    tar_gz_path = 'cifar-10-python.tar.gz'\n",
    "\n",
    "class DLProgress(tqdm):\n",
    "    last_block = 0\n",
    "\n",
    "    def hook(self, block_num=1, block_size=1, total_size=None):\n",
    "        self.total = total_size\n",
    "        self.update((block_num - self.last_block) * block_size)\n",
    "        self.last_block = block_num\n",
    "\n",
    "if not isfile(tar_gz_path):\n",
    "    with DLProgress(unit='B', unit_scale=True, miniters=1, desc='CIFAR-10 Dataset') as pbar:\n",
    "        urlretrieve(\n",
    "            'https://www.cs.toronto.edu/~kriz/cifar-10-python.tar.gz',\n",
    "            tar_gz_path,\n",
    "            pbar.hook)\n",
    "\n",
    "if not isdir(cifar10_dataset_folder_path):\n",
    "    with tarfile.open(tar_gz_path) as tar:\n",
    "        tar.extractall()\n",
    "        tar.close()\n",
    "\n",
    "\n",
    "tests.test_folder_path(cifar10_dataset_folder_path)"
   ]
  },
  {
   "cell_type": "markdown",
   "metadata": {
    "deletable": true,
    "editable": true
   },
   "source": [
    "## Explore the Data\n",
    "The dataset is broken into batches to prevent your machine from running out of memory.  The CIFAR-10 dataset consists of 5 batches, named `data_batch_1`, `data_batch_2`, etc.. Each batch contains the labels and images that are one of the following:\n",
    "* airplane\n",
    "* automobile\n",
    "* bird\n",
    "* cat\n",
    "* deer\n",
    "* dog\n",
    "* frog\n",
    "* horse\n",
    "* ship\n",
    "* truck\n",
    "\n",
    "Understanding a dataset is part of making predictions on the data.  Play around with the code cell below by changing the `batch_id` and `sample_id`. The `batch_id` is the id for a batch (1-5). The `sample_id` is the id for a image and label pair in the batch.\n",
    "\n",
    "Ask yourself \"What are all possible labels?\", \"What is the range of values for the image data?\", \"Are the labels in order or random?\".  Answers to questions like these will help you preprocess the data and end up with better predictions."
   ]
  },
  {
   "cell_type": "code",
   "execution_count": 2,
   "metadata": {
    "collapsed": false,
    "deletable": true,
    "editable": true
   },
   "outputs": [
    {
     "name": "stdout",
     "output_type": "stream",
     "text": [
      "\n",
      "Stats of batch 3:\n",
      "Samples: 10000\n",
      "Label Counts: {0: 994, 1: 1042, 2: 965, 3: 997, 4: 990, 5: 1029, 6: 978, 7: 1015, 8: 961, 9: 1029}\n",
      "First 20 Labels: [8, 5, 0, 6, 9, 2, 8, 3, 6, 2, 7, 4, 6, 9, 0, 0, 7, 3, 7, 2]\n",
      "\n",
      "Example of Image 50:\n",
      "Image - Min Value: 5 Max Value: 254\n",
      "Image - Shape: (32, 32, 3)\n",
      "Label - Label Id: 3 Name: cat\n"
     ]
    },
    {
     "data": {
      "image/png": "[encoded data removed]",
      "text/plain": [
       "<matplotlib.figure.Figure at 0x7f038e569160>"
      ]
     },
     "metadata": {
      "image/png": {
       "height": 250,
       "width": 253
      }
     },
     "output_type": "display_data"
    }
   ],
   "source": [
    "%matplotlib inline\n",
    "%config InlineBackend.figure_format = 'retina'\n",
    "\n",
    "import helper\n",
    "import numpy as np\n",
    "\n",
    "# Explore the dataset\n",
    "batch_id = 3\n",
    "sample_id = 50\n",
    "helper.display_stats(cifar10_dataset_folder_path, batch_id, sample_id)"
   ]
  },
  {
   "cell_type": "markdown",
   "metadata": {
    "deletable": true,
    "editable": true
   },
   "source": [
    "## Implement Preprocess Functions\n",
    "### Normalize\n",
    "In the cell below, implement the `normalize` function to take in image data, `x`, and return it as a normalized Numpy array. The values should be in the range of 0 to 1, inclusive.  The return object should be the same shape as `x`."
   ]
  },
  {
   "cell_type": "code",
   "execution_count": 3,
   "metadata": {
    "collapsed": false,
    "deletable": true,
    "editable": true
   },
   "outputs": [
    {
     "name": "stdout",
     "output_type": "stream",
     "text": [
      "Tests Passed\n"
     ]
    }
   ],
   "source": [
    "def normalize(x):\n",
    "    \"\"\"\n",
    "    Normalize a list of sample image data in the range of 0 to 1\n",
    "    : x: List of image data.  The image shape is (32, 32, 3)\n",
    "    : return: Numpy array of normalize data\n",
    "    \"\"\"\n",
    "    # TODO: Implement Function\n",
    "    return x/255.0\n",
    "\n",
    "\n",
    "\"\"\"\n",
    "DON'T MODIFY ANYTHING IN THIS CELL THAT IS BELOW THIS LINE\n",
    "\"\"\"\n",
    "tests.test_normalize(normalize)"
   ]
  },
  {
   "cell_type": "markdown",
   "metadata": {
    "deletable": true,
    "editable": true
   },
   "source": [
    "### One-hot encode\n",
    "Just like the previous code cell, you'll be implementing a function for preprocessing.  This time, you'll implement the `one_hot_encode` function. The input, `x`, are a list of labels.  Implement the function to return the list of labels as One-Hot encoded Numpy array.  The possible values for labels are 0 to 9. The one-hot encoding function should return the same encoding for each value between each call to `one_hot_encode`.  Make sure to save the map of encodings outside the function.\n",
    "\n",
    "Hint: Don't reinvent the wheel."
   ]
  },
  {
   "cell_type": "code",
   "execution_count": 4,
   "metadata": {
    "collapsed": false,
    "deletable": true,
    "editable": true
   },
   "outputs": [
    {
     "name": "stdout",
     "output_type": "stream",
     "text": [
      "Tests Passed\n"
     ]
    }
   ],
   "source": [
    "def one_hot_encode(x):\n",
    "    \"\"\"\n",
    "    One hot encode a list of sample labels. Return a one-hot encoded vector for each label.\n",
    "    : x: List of sample Labels\n",
    "    : return: Numpy array of one-hot encoded labels\n",
    "    \"\"\"\n",
    "    # TODO: Implement Function\n",
    "    n_labels = 10\n",
    "    \n",
    "    xr = np.zeros((len(x), n_labels))\n",
    "    xr[np.arange(len(x)), x] = 1    \n",
    "    \n",
    "    return xr\n",
    "\n",
    "\n",
    "\"\"\"\n",
    "DON'T MODIFY ANYTHING IN THIS CELL THAT IS BELOW THIS LINE\n",
    "\"\"\"\n",
    "tests.test_one_hot_encode(one_hot_encode)"
   ]
  },
  {
   "cell_type": "markdown",
   "metadata": {
    "deletable": true,
    "editable": true
   },
   "source": [
    "### Randomize Data\n",
    "As you saw from exploring the data above, the order of the samples are randomized.  It doesn't hurt to randomize it again, but you don't need to for this dataset."
   ]
  },
  {
   "cell_type": "markdown",
   "metadata": {
    "deletable": true,
    "editable": true
   },
   "source": [
    "## Preprocess all the data and save it\n",
    "Running the code cell below will preprocess all the CIFAR-10 data and save it to file. The code below also uses 10% of the training data for validation."
   ]
  },
  {
   "cell_type": "code",
   "execution_count": 5,
   "metadata": {
    "collapsed": true,
    "deletable": true,
    "editable": true
   },
   "outputs": [],
   "source": [
    "\"\"\"\n",
    "DON'T MODIFY ANYTHING IN THIS CELL\n",
    "\"\"\"\n",
    "# Preprocess Training, Validation, and Testing Data\n",
    "helper.preprocess_and_save_data(cifar10_dataset_folder_path, normalize, one_hot_encode)"
   ]
  },
  {
   "cell_type": "markdown",
   "metadata": {
    "deletable": true,
    "editable": true
   },
   "source": [
    "# Check Point\n",
    "This is your first checkpoint.  If you ever decide to come back to this notebook or have to restart the notebook, you can start from here.  The preprocessed data has been saved to disk."
   ]
  },
  {
   "cell_type": "code",
   "execution_count": 6,
   "metadata": {
    "collapsed": true,
    "deletable": true,
    "editable": true
   },
   "outputs": [],
   "source": [
    "\"\"\"\n",
    "DON'T MODIFY ANYTHING IN THIS CELL\n",
    "\"\"\"\n",
    "import pickle\n",
    "import problem_unittests as tests\n",
    "import helper\n",
    "\n",
    "# Load the Preprocessed Validation data\n",
    "valid_features, valid_labels = pickle.load(open('preprocess_validation.p', mode='rb'))"
   ]
  },
  {
   "cell_type": "markdown",
   "metadata": {
    "deletable": true,
    "editable": true
   },
   "source": [
    "## Build the network\n",
    "For the neural network, you'll build each layer into a function.  Most of the code you've seen has been outside of functions. To test your code more thoroughly, we require that you put each layer in a function.  This allows us to give you better feedback and test for simple mistakes using our unittests before you submit your project.\n",
    "\n",
    ">**Note:** If you're finding it hard to dedicate enough time for this course each week, we've provided a small shortcut to this part of the project. In the next couple of problems, you'll have the option to use classes from the [TensorFlow Layers](https://www.tensorflow.org/api_docs/python/tf/layers) or [TensorFlow Layers (contrib)](https://www.tensorflow.org/api_guides/python/contrib.layers) packages to build each layer, except the layers you build in the \"Convolutional and Max Pooling Layer\" section.  TF Layers is similar to Keras's and TFLearn's abstraction to layers, so it's easy to pickup.\n",
    "\n",
    ">However, if you would like to get the most out of this course, try to solve all the problems _without_ using anything from the TF Layers packages. You **can** still use classes from other packages that happen to have the same name as ones you find in TF Layers! For example, instead of using the TF Layers version of the `conv2d` class, [tf.layers.conv2d](https://www.tensorflow.org/api_docs/python/tf/layers/conv2d), you would want to use the TF Neural Network version of `conv2d`, [tf.nn.conv2d](https://www.tensorflow.org/api_docs/python/tf/nn/conv2d). \n",
    "\n",
    "Let's begin!\n",
    "\n",
    "### Input\n",
    "The neural network needs to read the image data, one-hot encoded labels, and dropout keep probability. Implement the following functions\n",
    "* Implement `neural_net_image_input`\n",
    " * Return a [TF Placeholder](https://www.tensorflow.org/api_docs/python/tf/placeholder)\n",
    " * Set the shape using `image_shape` with batch size set to `None`.\n",
    " * Name the TensorFlow placeholder \"x\" using the TensorFlow `name` parameter in the [TF Placeholder](https://www.tensorflow.org/api_docs/python/tf/placeholder).\n",
    "* Implement `neural_net_label_input`\n",
    " * Return a [TF Placeholder](https://www.tensorflow.org/api_docs/python/tf/placeholder)\n",
    " * Set the shape using `n_classes` with batch size set to `None`.\n",
    " * Name the TensorFlow placeholder \"y\" using the TensorFlow `name` parameter in the [TF Placeholder](https://www.tensorflow.org/api_docs/python/tf/placeholder).\n",
    "* Implement `neural_net_keep_prob_input`\n",
    " * Return a [TF Placeholder](https://www.tensorflow.org/api_docs/python/tf/placeholder) for dropout keep probability.\n",
    " * Name the TensorFlow placeholder \"keep_prob\" using the TensorFlow `name` parameter in the [TF Placeholder](https://www.tensorflow.org/api_docs/python/tf/placeholder).\n",
    "\n",
    "These names will be used at the end of the project to load your saved model.\n",
    "\n",
    "Note: `None` for shapes in TensorFlow allow for a dynamic size."
   ]
  },
  {
   "cell_type": "code",
   "execution_count": 7,
   "metadata": {
    "collapsed": false,
    "deletable": true,
    "editable": true
   },
   "outputs": [
    {
     "name": "stdout",
     "output_type": "stream",
     "text": [
      "Image Input Tests Passed.\n",
      "Label Input Tests Passed.\n",
      "Keep Prob Tests Passed.\n"
     ]
    }
   ],
   "source": [
    "import tensorflow as tf\n",
    "\n",
    "def neural_net_image_input(image_shape):\n",
    "    \"\"\"\n",
    "    Return a Tensor for a batch of image input\n",
    "    : image_shape: Shape of the images\n",
    "    : return: Tensor for image input.\n",
    "    \"\"\"\n",
    "    # TODO: Implement Function\n",
    "    return tf.placeholder(tf.float32, shape=[None, *image_shape], name='x')\n",
    "\n",
    "\n",
    "def neural_net_label_input(n_classes):\n",
    "    \"\"\"\n",
    "    Return a Tensor for a batch of label input\n",
    "    : n_classes: Number of classes\n",
    "    : return: Tensor for label input.\n",
    "    \"\"\"\n",
    "    # TODO: Implement Function\n",
    "    return tf.placeholder(tf.float32, shape=[None, n_classes], name='y')\n",
    "    \n",
    "\n",
    "\n",
    "def neural_net_keep_prob_input():\n",
    "    \"\"\"\n",
    "    Return a Tensor for keep probability\n",
    "    : return: Tensor for keep probability.\n",
    "    \"\"\"\n",
    "    # TODO: Implement Function\n",
    "    return tf.placeholder(tf.float32, name='keep_prob')\n",
    "\n",
    "\n",
    "\"\"\"\n",
    "DON'T MODIFY ANYTHING IN THIS CELL THAT IS BELOW THIS LINE\n",
    "\"\"\"\n",
    "tf.reset_default_graph()\n",
    "tests.test_nn_image_inputs(neural_net_image_input)\n",
    "tests.test_nn_label_inputs(neural_net_label_input)\n",
    "tests.test_nn_keep_prob_inputs(neural_net_keep_prob_input)"
   ]
  },
  {
   "cell_type": "markdown",
   "metadata": {
    "deletable": true,
    "editable": true
   },
   "source": [
    "### Convolution and Max Pooling Layer\n",
    "Convolution layers have a lot of success with images. For this code cell, you should implement the function `conv2d_maxpool` to apply convolution then max pooling:\n",
    "* Create the weight and bias using `conv_ksize`, `conv_num_outputs` and the shape of `x_tensor`.\n",
    "* Apply a convolution to `x_tensor` using weight and `conv_strides`.\n",
    " * We recommend you use same padding, but you're welcome to use any padding.\n",
    "* Add bias\n",
    "* Add a nonlinear activation to the convolution.\n",
    "* Apply Max Pooling using `pool_ksize` and `pool_strides`.\n",
    " * We recommend you use same padding, but you're welcome to use any padding.\n",
    "\n",
    "**Note:** You **can't** use [TensorFlow Layers](https://www.tensorflow.org/api_docs/python/tf/layers) or [TensorFlow Layers (contrib)](https://www.tensorflow.org/api_guides/python/contrib.layers) for **this** layer, but you can still use TensorFlow's [Neural Network](https://www.tensorflow.org/api_docs/python/tf/nn) package. You may still use the shortcut option for all the **other** layers."
   ]
  },
  {
   "cell_type": "code",
   "execution_count": 8,
   "metadata": {
    "collapsed": false,
    "deletable": true,
    "editable": true
   },
   "outputs": [
    {
     "name": "stdout",
     "output_type": "stream",
     "text": [
      "Tests Passed\n"
     ]
    }
   ],
   "source": [
    "def conv2d_maxpool(x_tensor, conv_num_outputs, conv_ksize, conv_strides, pool_ksize, pool_strides):\n",
    "    \"\"\"\n",
    "    Apply convolution then max pooling to x_tensor\n",
    "    :param x_tensor: TensorFlow Tensor\n",
    "    :param conv_num_outputs: Number of outputs for the convolutional layer\n",
    "    :param conv_ksize: kernal size 2-D Tuple for the convolutional layer\n",
    "    :param conv_strides: Stride 2-D Tuple for convolution\n",
    "    :param pool_ksize: kernal size 2-D Tuple for pool\n",
    "    :param pool_strides: Stride 2-D Tuple for pool\n",
    "    : return: A tensor that represents convolution and max pooling of x_tensor\n",
    "    \"\"\"\n",
    "    # TODO: Implement Function\n",
    "    \n",
    "    # 1 - Create the weight and bias using conv_ksize, conv_num_outputs and the shape of x_tensor.\n",
    "    \n",
    "    _, w, h, d = x_tensor.get_shape()\n",
    "    \n",
    "    std = 1./(float(int(w)*int(h)) ** 0.5)\n",
    "    \n",
    "    weight = tf.Variable(tf.truncated_normal(\n",
    "        [conv_ksize[0], conv_ksize[1], int(d), conv_num_outputs], stddev=std))\n",
    "    bias = tf.Variable(tf.zeros(conv_num_outputs))\n",
    "    \n",
    "    # 2 - Apply a convolution to x_tensor using weight and conv_strides.    \n",
    "    conv = tf.nn.conv2d(x_tensor, weight, strides = \n",
    "                        [1, conv_strides[0], conv_strides[1], 1], padding='SAME')\n",
    "    \n",
    "    # 3 - Add bias\n",
    "    conv = tf.nn.bias_add(conv, bias)\n",
    "    \n",
    "    # 4 - Add a nonlinear activation to the convolution.\n",
    "    conv = tf.nn.relu(conv)\n",
    "    \n",
    "    # 5 - Apply Max Pooling using pool_ksize and pool_strides.\n",
    "    conv = tf.nn.max_pool(conv, \n",
    "                          ksize=[1, pool_ksize[0], pool_ksize[1], 1], \n",
    "                          strides=[1, pool_strides[0], pool_strides[1], 1], \n",
    "                          padding='SAME')\n",
    "\n",
    "    return conv\n",
    "\n",
    "\n",
    "\"\"\"\n",
    "DON'T MODIFY ANYTHING IN THIS CELL THAT IS BELOW THIS LINE\n",
    "\"\"\"\n",
    "tests.test_con_pool(conv2d_maxpool)"
   ]
  },
  {
   "cell_type": "markdown",
   "metadata": {
    "deletable": true,
    "editable": true
   },
   "source": [
    "### Flatten Layer\n",
    "Implement the `flatten` function to change the dimension of `x_tensor` from a 4-D tensor to a 2-D tensor.  The output should be the shape (*Batch Size*, *Flattened Image Size*). Shortcut option: you can use classes from the [TensorFlow Layers](https://www.tensorflow.org/api_docs/python/tf/layers) or [TensorFlow Layers (contrib)](https://www.tensorflow.org/api_guides/python/contrib.layers) packages for this layer. For more of a challenge, only use other TensorFlow packages."
   ]
  },
  {
   "cell_type": "code",
   "execution_count": 9,
   "metadata": {
    "collapsed": false,
    "deletable": true,
    "editable": true
   },
   "outputs": [
    {
     "name": "stdout",
     "output_type": "stream",
     "text": [
      "Tests Passed\n"
     ]
    }
   ],
   "source": [
    "def flatten(x_tensor):\n",
    "    \"\"\"\n",
    "    Flatten x_tensor to (Batch Size, Flattened Image Size)\n",
    "    : x_tensor: A tensor of size (Batch Size, ...), where ... are the image dimensions.\n",
    "    : return: A tensor of size (Batch Size, Flattened Image Size).\n",
    "    \"\"\"\n",
    "    # TODO: Implement Function\n",
    "    _, w, h, d = x_tensor.get_shape()\n",
    "    return tf.reshape(x_tensor, [-1, int(w)*int(h)*int(d)])\n",
    "\n",
    "\n",
    "\"\"\"\n",
    "DON'T MODIFY ANYTHING IN THIS CELL THAT IS BELOW THIS LINE\n",
    "\"\"\"\n",
    "tests.test_flatten(flatten)"
   ]
  },
  {
   "cell_type": "markdown",
   "metadata": {
    "deletable": true,
    "editable": true
   },
   "source": [
    "### Fully-Connected Layer\n",
    "Implement the `fully_conn` function to apply a fully connected layer to `x_tensor` with the shape (*Batch Size*, *num_outputs*). Shortcut option: you can use classes from the [TensorFlow Layers](https://www.tensorflow.org/api_docs/python/tf/layers) or [TensorFlow Layers (contrib)](https://www.tensorflow.org/api_guides/python/contrib.layers) packages for this layer. For more of a challenge, only use other TensorFlow packages."
   ]
  },
  {
   "cell_type": "code",
   "execution_count": 10,
   "metadata": {
    "collapsed": false,
    "deletable": true,
    "editable": true
   },
   "outputs": [
    {
     "name": "stdout",
     "output_type": "stream",
     "text": [
      "Tests Passed\n"
     ]
    }
   ],
   "source": [
    "def fully_conn(x_tensor, num_outputs):\n",
    "    \"\"\"\n",
    "    Apply a fully connected layer to x_tensor using weight and bias\n",
    "    : x_tensor: A 2-D tensor where the first dimension is batch size.\n",
    "    : num_outputs: The number of output that the new tensor should be.\n",
    "    : return: A 2-D tensor where the second dimension is num_outputs.\n",
    "    \"\"\"\n",
    "    # TODO: Implement Function\n",
    "    \n",
    "    input_size = x_tensor.get_shape().as_list()[1]\n",
    "    W = tf.Variable(tf.truncated_normal(\n",
    "        [input_size, num_outputs], stddev=1./float(input_size ** 0.5)\n",
    "    ))\n",
    "    bias = tf.Variable(tf.zeros(num_outputs))\n",
    "    \n",
    "    fc = tf.add(tf.matmul(x_tensor, W), bias)\n",
    "    return tf.nn.relu(fc)\n",
    "\n",
    "\n",
    "\"\"\"\n",
    "DON'T MODIFY ANYTHING IN THIS CELL THAT IS BELOW THIS LINE\n",
    "\"\"\"\n",
    "tests.test_fully_conn(fully_conn)"
   ]
  },
  {
   "cell_type": "markdown",
   "metadata": {
    "deletable": true,
    "editable": true
   },
   "source": [
    "### Output Layer\n",
    "Implement the `output` function to apply a fully connected layer to `x_tensor` with the shape (*Batch Size*, *num_outputs*). Shortcut option: you can use classes from the [TensorFlow Layers](https://www.tensorflow.org/api_docs/python/tf/layers) or [TensorFlow Layers (contrib)](https://www.tensorflow.org/api_guides/python/contrib.layers) packages for this layer. For more of a challenge, only use other TensorFlow packages.\n",
    "\n",
    "**Note:** Activation, softmax, or cross entropy should **not** be applied to this."
   ]
  },
  {
   "cell_type": "code",
   "execution_count": 11,
   "metadata": {
    "collapsed": false,
    "deletable": true,
    "editable": true
   },
   "outputs": [
    {
     "name": "stdout",
     "output_type": "stream",
     "text": [
      "Tests Passed\n"
     ]
    }
   ],
   "source": [
    "def output(x_tensor, num_outputs):\n",
    "    \"\"\"\n",
    "    Apply a output layer to x_tensor using weight and bias\n",
    "    : x_tensor: A 2-D tensor where the first dimension is batch size.\n",
    "    : num_outputs: The number of output that the new tensor should be.\n",
    "    : return: A 2-D tensor where the second dimension is num_outputs.\n",
    "    \"\"\"\n",
    "    # TODO: Implement Function\n",
    "    \n",
    "    input_size = x_tensor.get_shape().as_list()[1]\n",
    "    W = tf.Variable(tf.truncated_normal(\n",
    "        [input_size, num_outputs], stddev=1./float(input_size ** 0.5)\n",
    "    ))\n",
    "    bias = tf.Variable(tf.zeros(num_outputs))\n",
    "    \n",
    "    out = tf.add(tf.matmul(x_tensor, W), bias)\n",
    "    return out\n",
    "\n",
    "\n",
    "\"\"\"\n",
    "DON'T MODIFY ANYTHING IN THIS CELL THAT IS BELOW THIS LINE\n",
    "\"\"\"\n",
    "tests.test_output(output)"
   ]
  },
  {
   "cell_type": "markdown",
   "metadata": {
    "deletable": true,
    "editable": true
   },
   "source": [
    "### Create Convolutional Model\n",
    "Implement the function `conv_net` to create a convolutional neural network model. The function takes in a batch of images, `x`, and outputs logits.  Use the layers you created above to create this model:\n",
    "\n",
    "* Apply 1, 2, or 3 Convolution and Max Pool layers\n",
    "* Apply a Flatten Layer\n",
    "* Apply 1, 2, or 3 Fully Connected Layers\n",
    "* Apply an Output Layer\n",
    "* Return the output\n",
    "* Apply [TensorFlow's Dropout](https://www.tensorflow.org/api_docs/python/tf/nn/dropout) to one or more layers in the model using `keep_prob`. "
   ]
  },
  {
   "cell_type": "code",
   "execution_count": 12,
   "metadata": {
    "collapsed": false,
    "deletable": true,
    "editable": true
   },
   "outputs": [
    {
     "name": "stdout",
     "output_type": "stream",
     "text": [
      "Neural Network Built!\n"
     ]
    }
   ],
   "source": [
    "def conv_net(x, keep_prob):\n",
    "    \"\"\"\n",
    "    Create a convolutional neural network model\n",
    "    : x: Placeholder tensor that holds image data.\n",
    "    : keep_prob: Placeholder tensor that hold dropout keep probability.\n",
    "    : return: Tensor that represents logits\n",
    "    \"\"\"\n",
    "    # TODO: Apply 1, 2, or 3 Convolution and Max Pool layers\n",
    "    #    Play around with different number of outputs, kernel size and stride\n",
    "    # Function Definition from Above:\n",
    "    #    conv2d_maxpool(x_tensor, conv_num_outputs, conv_ksize, conv_strides, pool_ksize, pool_strides)\n",
    "    net = conv2d_maxpool(x, 32, [5,5], [1,1], [2,2], [2,2])\n",
    "    net = conv2d_maxpool(net, 64, [5,5], [1,1], [2,2], [2,2])\n",
    "    net = conv2d_maxpool(net, 128, [5,5], [1,1], [2,2], [2,2])\n",
    "    \n",
    "    # TODO: Apply a Flatten Layer\n",
    "    # Function Definition from Above:\n",
    "    #   flatten(x_tensor)\n",
    "    net = flatten(net)\n",
    "    \n",
    "    # TODO: Apply 1, 2, or 3 Fully Connected Layers\n",
    "    #    Play around with different number of outputs\n",
    "    # Function Definition from Above:\n",
    "    #   fully_conn(x_tensor, num_outputs)\n",
    "    net = fully_conn(net, 512)\n",
    "    net = tf.nn.dropout(net, keep_prob)\n",
    "    net = fully_conn(net, 64)\n",
    "    net = tf.nn.dropout(net, keep_prob)\n",
    "    \n",
    "    # TODO: Apply an Output Layer\n",
    "    #    Set this to the number of classes\n",
    "    # Function Definition from Above:\n",
    "    #   output(x_tensor, num_outputs)\n",
    "    out = output(net, 10)\n",
    "    out = tf.nn.dropout(out, keep_prob)\n",
    "    # TODO: return output\n",
    "    return out\n",
    "\n",
    "\n",
    "\"\"\"\n",
    "DON'T MODIFY ANYTHING IN THIS CELL THAT IS BELOW THIS LINE\n",
    "\"\"\"\n",
    "\n",
    "##############################\n",
    "## Build the Neural Network ##\n",
    "##############################\n",
    "\n",
    "# Remove previous weights, bias, inputs, etc..\n",
    "tf.reset_default_graph()\n",
    "\n",
    "# Inputs\n",
    "x = neural_net_image_input((32, 32, 3))\n",
    "y = neural_net_label_input(10)\n",
    "keep_prob = neural_net_keep_prob_input()\n",
    "\n",
    "# Model\n",
    "logits = conv_net(x, keep_prob)\n",
    "\n",
    "# Name logits Tensor, so that is can be loaded from disk after training\n",
    "logits = tf.identity(logits, name='logits')\n",
    "\n",
    "# Loss and Optimizer\n",
    "cost = tf.reduce_mean(tf.nn.softmax_cross_entropy_with_logits(logits=logits, labels=y))\n",
    "optimizer = tf.train.AdamOptimizer().minimize(cost)\n",
    "\n",
    "# Accuracy\n",
    "correct_pred = tf.equal(tf.argmax(logits, 1), tf.argmax(y, 1))\n",
    "accuracy = tf.reduce_mean(tf.cast(correct_pred, tf.float32), name='accuracy')\n",
    "\n",
    "tests.test_conv_net(conv_net)"
   ]
  },
  {
   "cell_type": "markdown",
   "metadata": {
    "deletable": true,
    "editable": true
   },
   "source": [
    "## Train the Neural Network\n",
    "### Single Optimization\n",
    "Implement the function `train_neural_network` to do a single optimization.  The optimization should use `optimizer` to optimize in `session` with a `feed_dict` of the following:\n",
    "* `x` for image input\n",
    "* `y` for labels\n",
    "* `keep_prob` for keep probability for dropout\n",
    "\n",
    "This function will be called for each batch, so `tf.global_variables_initializer()` has already been called.\n",
    "\n",
    "Note: Nothing needs to be returned. This function is only optimizing the neural network."
   ]
  },
  {
   "cell_type": "code",
   "execution_count": 13,
   "metadata": {
    "collapsed": false,
    "deletable": true,
    "editable": true
   },
   "outputs": [
    {
     "name": "stdout",
     "output_type": "stream",
     "text": [
      "Tests Passed\n"
     ]
    }
   ],
   "source": [
    "def train_neural_network(session, optimizer, keep_probability, feature_batch, label_batch):\n",
    "    \"\"\"\n",
    "    Optimize the session on a batch of images and labels\n",
    "    : session: Current TensorFlow session\n",
    "    : optimizer: TensorFlow optimizer function\n",
    "    : keep_probability: keep probability\n",
    "    : feature_batch: Batch of Numpy image data\n",
    "    : label_batch: Batch of Numpy label data\n",
    "    \"\"\"\n",
    "    # TODO: Implement Function\n",
    "    return session.run(optimizer, feed_dict={x: feature_batch, y: label_batch, keep_prob: keep_probability})\n",
    "\n",
    "\n",
    "\"\"\"\n",
    "DON'T MODIFY ANYTHING IN THIS CELL THAT IS BELOW THIS LINE\n",
    "\"\"\"\n",
    "tests.test_train_nn(train_neural_network)"
   ]
  },
  {
   "cell_type": "markdown",
   "metadata": {
    "deletable": true,
    "editable": true
   },
   "source": [
    "### Show Stats\n",
    "Implement the function `print_stats` to print loss and validation accuracy.  Use the global variables `valid_features` and `valid_labels` to calculate validation accuracy.  Use a keep probability of `1.0` to calculate the loss and validation accuracy."
   ]
  },
  {
   "cell_type": "code",
   "execution_count": 14,
   "metadata": {
    "collapsed": true,
    "deletable": true,
    "editable": true
   },
   "outputs": [],
   "source": [
    "def print_stats(session, feature_batch, label_batch, cost, accuracy):\n",
    "    \"\"\"\n",
    "    Print information about loss and validation accuracy\n",
    "    : session: Current TensorFlow session\n",
    "    : feature_batch: Batch of Numpy image data\n",
    "    : label_batch: Batch of Numpy label data\n",
    "    : cost: TensorFlow cost function\n",
    "    : accuracy: TensorFlow accuracy function\n",
    "    \"\"\"\n",
    "    # TODO: Implement Function\n",
    "    loss =  sess.run(cost, feed_dict={x: feature_batch, y: label_batch, keep_prob: 1.0})\n",
    "    v_accuracy = sess.run(accuracy, feed_dict={x: valid_features, y: valid_labels, keep_prob: 1.0})\n",
    "    \n",
    "    print('Lost: {} - Accuracy: {}'.format(loss, v_accuracy))"
   ]
  },
  {
   "cell_type": "markdown",
   "metadata": {
    "deletable": true,
    "editable": true
   },
   "source": [
    "### Hyperparameters\n",
    "Tune the following parameters:\n",
    "* Set `epochs` to the number of iterations until the network stops learning or start overfitting\n",
    "* Set `batch_size` to the highest number that your machine has memory for.  Most people set them to common sizes of memory:\n",
    " * 64\n",
    " * 128\n",
    " * 256\n",
    " * ...\n",
    "* Set `keep_probability` to the probability of keeping a node using dropout"
   ]
  },
  {
   "cell_type": "code",
   "execution_count": 15,
   "metadata": {
    "collapsed": true,
    "deletable": true,
    "editable": true
   },
   "outputs": [],
   "source": [
    "# TODO: Tune Parameters\n",
    "epochs = 30\n",
    "batch_size = 512\n",
    "keep_probability = 0.8"
   ]
  },
  {
   "cell_type": "markdown",
   "metadata": {
    "deletable": true,
    "editable": true
   },
   "source": [
    "### Train on a Single CIFAR-10 Batch\n",
    "Instead of training the neural network on all the CIFAR-10 batches of data, let's use a single batch. This should save time while you iterate on the model to get a better accuracy.  Once the final validation accuracy is 50% or greater, run the model on all the data in the next section."
   ]
  },
  {
   "cell_type": "code",
   "execution_count": 16,
   "metadata": {
    "collapsed": false,
    "deletable": true,
    "editable": true
   },
   "outputs": [
    {
     "name": "stdout",
     "output_type": "stream",
     "text": [
      "Checking the Training on a Single Batch...\n",
      "Epoch  1, CIFAR-10 Batch 1:  Lost: 2.1255056858062744 - Accuracy: 0.2207999974489212\n",
      "Epoch  2, CIFAR-10 Batch 1:  Lost: 1.9467761516571045 - Accuracy: 0.2930000126361847\n",
      "Epoch  3, CIFAR-10 Batch 1:  Lost: 1.8365185260772705 - Accuracy: 0.3402000069618225\n",
      "Epoch  4, CIFAR-10 Batch 1:  Lost: 1.6955119371414185 - Accuracy: 0.40400001406669617\n",
      "Epoch  5, CIFAR-10 Batch 1:  Lost: 1.6500375270843506 - Accuracy: 0.40799999237060547\n",
      "Epoch  6, CIFAR-10 Batch 1:  Lost: 1.5497148036956787 - Accuracy: 0.46779999136924744\n",
      "Epoch  7, CIFAR-10 Batch 1:  Lost: 1.4379802942276 - Accuracy: 0.4742000102996826\n",
      "Epoch  8, CIFAR-10 Batch 1:  Lost: 1.4159198999404907 - Accuracy: 0.45840001106262207\n",
      "Epoch  9, CIFAR-10 Batch 1:  Lost: 1.3026330471038818 - Accuracy: 0.5072000026702881\n",
      "Epoch 10, CIFAR-10 Batch 1:  Lost: 1.2120827436447144 - Accuracy: 0.5235999822616577\n",
      "Epoch 11, CIFAR-10 Batch 1:  Lost: 1.1392221450805664 - Accuracy: 0.5333999991416931\n",
      "Epoch 12, CIFAR-10 Batch 1:  Lost: 1.0961648225784302 - Accuracy: 0.5296000242233276\n",
      "Epoch 13, CIFAR-10 Batch 1:  Lost: 1.0128111839294434 - Accuracy: 0.5562000274658203\n",
      "Epoch 14, CIFAR-10 Batch 1:  Lost: 0.9390511512756348 - Accuracy: 0.5447999835014343\n",
      "Epoch 15, CIFAR-10 Batch 1:  Lost: 0.7977243661880493 - Accuracy: 0.5546000003814697\n",
      "Epoch 16, CIFAR-10 Batch 1:  Lost: 0.7290613055229187 - Accuracy: 0.5666000247001648\n",
      "Epoch 17, CIFAR-10 Batch 1:  Lost: 0.6453222036361694 - Accuracy: 0.5813999772071838\n",
      "Epoch 18, CIFAR-10 Batch 1:  Lost: 0.5825815796852112 - Accuracy: 0.5748000144958496\n",
      "Epoch 19, CIFAR-10 Batch 1:  Lost: 0.5714406967163086 - Accuracy: 0.5794000029563904\n",
      "Epoch 20, CIFAR-10 Batch 1:  Lost: 0.547235906124115 - Accuracy: 0.5659999847412109\n",
      "Epoch 21, CIFAR-10 Batch 1:  Lost: 0.48499247431755066 - Accuracy: 0.5666000247001648\n",
      "Epoch 22, CIFAR-10 Batch 1:  Lost: 0.40180397033691406 - Accuracy: 0.6000000238418579\n",
      "Epoch 23, CIFAR-10 Batch 1:  Lost: 0.33115315437316895 - Accuracy: 0.5965999960899353\n",
      "Epoch 24, CIFAR-10 Batch 1:  Lost: 0.2938198447227478 - Accuracy: 0.5911999940872192\n",
      "Epoch 25, CIFAR-10 Batch 1:  Lost: 0.29922839999198914 - Accuracy: 0.5774000287055969\n",
      "Epoch 26, CIFAR-10 Batch 1:  Lost: 0.27139711380004883 - Accuracy: 0.5699999928474426\n",
      "Epoch 27, CIFAR-10 Batch 1:  Lost: 0.2226153165102005 - Accuracy: 0.5770000219345093\n",
      "Epoch 28, CIFAR-10 Batch 1:  Lost: 0.19222556054592133 - Accuracy: 0.5861999988555908\n",
      "Epoch 29, CIFAR-10 Batch 1:  Lost: 0.16366887092590332 - Accuracy: 0.5849999785423279\n",
      "Epoch 30, CIFAR-10 Batch 1:  Lost: 0.1110275387763977 - Accuracy: 0.6011999845504761\n"
     ]
    }
   ],
   "source": [
    "\"\"\"\n",
    "DON'T MODIFY ANYTHING IN THIS CELL\n",
    "\"\"\"\n",
    "print('Checking the Training on a Single Batch...')\n",
    "with tf.Session() as sess:\n",
    "    # Initializing the variables\n",
    "    sess.run(tf.global_variables_initializer())\n",
    "    \n",
    "    # Training cycle\n",
    "    for epoch in range(epochs):\n",
    "        batch_i = 1\n",
    "        for batch_features, batch_labels in helper.load_preprocess_training_batch(batch_i, batch_size):\n",
    "            train_neural_network(sess, optimizer, keep_probability, batch_features, batch_labels)\n",
    "        print('Epoch {:>2}, CIFAR-10 Batch {}:  '.format(epoch + 1, batch_i), end='')\n",
    "        print_stats(sess, batch_features, batch_labels, cost, accuracy)"
   ]
  },
  {
   "cell_type": "markdown",
   "metadata": {
    "deletable": true,
    "editable": true
   },
   "source": [
    "### Fully Train the Model\n",
    "Now that you got a good accuracy with a single CIFAR-10 batch, try it with all five batches."
   ]
  },
  {
   "cell_type": "code",
   "execution_count": 17,
   "metadata": {
    "collapsed": false,
    "deletable": true,
    "editable": true
   },
   "outputs": [
    {
     "name": "stdout",
     "output_type": "stream",
     "text": [
      "Training...\n",
      "Epoch  1, CIFAR-10 Batch 1:  Lost: 1.9987397193908691 - Accuracy: 0.3287999927997589\n",
      "Epoch  1, CIFAR-10 Batch 2:  Lost: 1.763014554977417 - Accuracy: 0.3668000102043152\n",
      "Epoch  1, CIFAR-10 Batch 3:  Lost: 1.5584720373153687 - Accuracy: 0.3824000060558319\n",
      "Epoch  1, CIFAR-10 Batch 4:  Lost: 1.5357826948165894 - Accuracy: 0.4302000105381012\n",
      "Epoch  1, CIFAR-10 Batch 5:  Lost: 1.4870611429214478 - Accuracy: 0.4535999894142151\n",
      "Epoch  2, CIFAR-10 Batch 1:  Lost: 1.539799451828003 - Accuracy: 0.46299999952316284\n",
      "Epoch  2, CIFAR-10 Batch 2:  Lost: 1.4369791746139526 - Accuracy: 0.4636000096797943\n",
      "Epoch  2, CIFAR-10 Batch 3:  Lost: 1.2964085340499878 - Accuracy: 0.501800000667572\n",
      "Epoch  2, CIFAR-10 Batch 4:  Lost: 1.2721847295761108 - Accuracy: 0.5234000086784363\n",
      "Epoch  2, CIFAR-10 Batch 5:  Lost: 1.2435027360916138 - Accuracy: 0.5418000221252441\n",
      "Epoch  3, CIFAR-10 Batch 1:  Lost: 1.3493621349334717 - Accuracy: 0.5289999842643738\n",
      "Epoch  3, CIFAR-10 Batch 2:  Lost: 1.2211902141571045 - Accuracy: 0.5559999942779541\n",
      "Epoch  3, CIFAR-10 Batch 3:  Lost: 1.0502883195877075 - Accuracy: 0.5817999839782715\n",
      "Epoch  3, CIFAR-10 Batch 4:  Lost: 1.051576018333435 - Accuracy: 0.5770000219345093\n",
      "Epoch  3, CIFAR-10 Batch 5:  Lost: 1.0693978071212769 - Accuracy: 0.5881999731063843\n",
      "Epoch  4, CIFAR-10 Batch 1:  Lost: 1.096971035003662 - Accuracy: 0.6021999716758728\n",
      "Epoch  4, CIFAR-10 Batch 2:  Lost: 1.0242117643356323 - Accuracy: 0.6082000136375427\n",
      "Epoch  4, CIFAR-10 Batch 3:  Lost: 0.9403218626976013 - Accuracy: 0.6010000109672546\n",
      "Epoch  4, CIFAR-10 Batch 4:  Lost: 0.8984395861625671 - Accuracy: 0.621399998664856\n",
      "Epoch  4, CIFAR-10 Batch 5:  Lost: 0.9260596036911011 - Accuracy: 0.6177999973297119\n",
      "Epoch  5, CIFAR-10 Batch 1:  Lost: 0.9570939540863037 - Accuracy: 0.6313999891281128\n",
      "Epoch  5, CIFAR-10 Batch 2:  Lost: 0.8750393986701965 - Accuracy: 0.6305999755859375\n",
      "Epoch  5, CIFAR-10 Batch 3:  Lost: 0.7938675880432129 - Accuracy: 0.6323999762535095\n",
      "Epoch  5, CIFAR-10 Batch 4:  Lost: 0.7696390151977539 - Accuracy: 0.6438000202178955\n",
      "Epoch  5, CIFAR-10 Batch 5:  Lost: 0.7995718717575073 - Accuracy: 0.6416000127792358\n",
      "Epoch  6, CIFAR-10 Batch 1:  Lost: 0.8777632713317871 - Accuracy: 0.6377999782562256\n",
      "Epoch  6, CIFAR-10 Batch 2:  Lost: 0.7828611135482788 - Accuracy: 0.6606000065803528\n",
      "Epoch  6, CIFAR-10 Batch 3:  Lost: 0.6677348017692566 - Accuracy: 0.6553999781608582\n",
      "Epoch  6, CIFAR-10 Batch 4:  Lost: 0.6538536548614502 - Accuracy: 0.6710000038146973\n",
      "Epoch  6, CIFAR-10 Batch 5:  Lost: 0.6872745156288147 - Accuracy: 0.644599974155426\n",
      "Epoch  7, CIFAR-10 Batch 1:  Lost: 0.7592107653617859 - Accuracy: 0.6646000146865845\n",
      "Epoch  7, CIFAR-10 Batch 2:  Lost: 0.6606545448303223 - Accuracy: 0.6783999800682068\n",
      "Epoch  7, CIFAR-10 Batch 3:  Lost: 0.560036838054657 - Accuracy: 0.6808000206947327\n",
      "Epoch  7, CIFAR-10 Batch 4:  Lost: 0.5823855996131897 - Accuracy: 0.6844000220298767\n",
      "Epoch  7, CIFAR-10 Batch 5:  Lost: 0.5656417608261108 - Accuracy: 0.6718000173568726\n",
      "Epoch  8, CIFAR-10 Batch 1:  Lost: 0.726813554763794 - Accuracy: 0.6520000100135803\n",
      "Epoch  8, CIFAR-10 Batch 2:  Lost: 0.6026939153671265 - Accuracy: 0.670199990272522\n",
      "Epoch  8, CIFAR-10 Batch 3:  Lost: 0.5096694827079773 - Accuracy: 0.6862000226974487\n",
      "Epoch  8, CIFAR-10 Batch 4:  Lost: 0.5040445327758789 - Accuracy: 0.6905999779701233\n",
      "Epoch  8, CIFAR-10 Batch 5:  Lost: 0.5156069993972778 - Accuracy: 0.6690000295639038\n",
      "Epoch  9, CIFAR-10 Batch 1:  Lost: 0.6959207653999329 - Accuracy: 0.6714000105857849\n",
      "Epoch  9, CIFAR-10 Batch 2:  Lost: 0.5595496892929077 - Accuracy: 0.6564000248908997\n",
      "Epoch  9, CIFAR-10 Batch 3:  Lost: 0.45843803882598877 - Accuracy: 0.6823999881744385\n",
      "Epoch  9, CIFAR-10 Batch 4:  Lost: 0.46362826228141785 - Accuracy: 0.6926000118255615\n",
      "Epoch  9, CIFAR-10 Batch 5:  Lost: 0.4128745198249817 - Accuracy: 0.6922000050544739\n",
      "Epoch 10, CIFAR-10 Batch 1:  Lost: 0.5372063517570496 - Accuracy: 0.6895999908447266\n",
      "Epoch 10, CIFAR-10 Batch 2:  Lost: 0.45619603991508484 - Accuracy: 0.6934000253677368\n",
      "Epoch 10, CIFAR-10 Batch 3:  Lost: 0.3621591627597809 - Accuracy: 0.7088000178337097\n",
      "Epoch 10, CIFAR-10 Batch 4:  Lost: 0.3890627920627594 - Accuracy: 0.6949999928474426\n",
      "Epoch 10, CIFAR-10 Batch 5:  Lost: 0.3704514801502228 - Accuracy: 0.6869999766349792\n",
      "Epoch 11, CIFAR-10 Batch 1:  Lost: 0.49430155754089355 - Accuracy: 0.6952000260353088\n",
      "Epoch 11, CIFAR-10 Batch 2:  Lost: 0.4164711534976959 - Accuracy: 0.6837999820709229\n",
      "Epoch 11, CIFAR-10 Batch 3:  Lost: 0.3119580149650574 - Accuracy: 0.7075999975204468\n",
      "Epoch 11, CIFAR-10 Batch 4:  Lost: 0.4247886836528778 - Accuracy: 0.6697999835014343\n",
      "Epoch 11, CIFAR-10 Batch 5:  Lost: 0.35981667041778564 - Accuracy: 0.6765999794006348\n",
      "Epoch 12, CIFAR-10 Batch 1:  Lost: 0.4592714011669159 - Accuracy: 0.6858000159263611\n",
      "Epoch 12, CIFAR-10 Batch 2:  Lost: 0.381706178188324 - Accuracy: 0.7021999955177307\n",
      "Epoch 12, CIFAR-10 Batch 3:  Lost: 0.2799680829048157 - Accuracy: 0.6980000138282776\n",
      "Epoch 12, CIFAR-10 Batch 4:  Lost: 0.32603371143341064 - Accuracy: 0.6967999935150146\n",
      "Epoch 12, CIFAR-10 Batch 5:  Lost: 0.2899787724018097 - Accuracy: 0.7044000029563904\n",
      "Epoch 13, CIFAR-10 Batch 1:  Lost: 0.3644462525844574 - Accuracy: 0.6881999969482422\n",
      "Epoch 13, CIFAR-10 Batch 2:  Lost: 0.3141205906867981 - Accuracy: 0.7035999894142151\n",
      "Epoch 13, CIFAR-10 Batch 3:  Lost: 0.2279924899339676 - Accuracy: 0.703000009059906\n",
      "Epoch 13, CIFAR-10 Batch 4:  Lost: 0.26913490891456604 - Accuracy: 0.6985999941825867\n",
      "Epoch 13, CIFAR-10 Batch 5:  Lost: 0.24672415852546692 - Accuracy: 0.6973999738693237\n",
      "Epoch 14, CIFAR-10 Batch 1:  Lost: 0.330191433429718 - Accuracy: 0.6948000192642212\n",
      "Epoch 14, CIFAR-10 Batch 2:  Lost: 0.28937721252441406 - Accuracy: 0.6859999895095825\n",
      "Epoch 14, CIFAR-10 Batch 3:  Lost: 0.29692476987838745 - Accuracy: 0.6887999773025513\n",
      "Epoch 14, CIFAR-10 Batch 4:  Lost: 0.2572851777076721 - Accuracy: 0.7095999717712402\n",
      "Epoch 14, CIFAR-10 Batch 5:  Lost: 0.21486680209636688 - Accuracy: 0.7077999711036682\n",
      "Epoch 15, CIFAR-10 Batch 1:  Lost: 0.30438676476478577 - Accuracy: 0.6991999745368958\n",
      "Epoch 15, CIFAR-10 Batch 2:  Lost: 0.22449365258216858 - Accuracy: 0.6988000273704529\n",
      "Epoch 15, CIFAR-10 Batch 3:  Lost: 0.2260199934244156 - Accuracy: 0.6931999921798706\n",
      "Epoch 15, CIFAR-10 Batch 4:  Lost: 0.24736884236335754 - Accuracy: 0.7008000016212463\n",
      "Epoch 15, CIFAR-10 Batch 5:  Lost: 0.186981201171875 - Accuracy: 0.703000009059906\n",
      "Epoch 16, CIFAR-10 Batch 1:  Lost: 0.23005235195159912 - Accuracy: 0.7052000164985657\n",
      "Epoch 16, CIFAR-10 Batch 2:  Lost: 0.18667735159397125 - Accuracy: 0.694599986076355\n",
      "Epoch 16, CIFAR-10 Batch 3:  Lost: 0.20704764127731323 - Accuracy: 0.7003999948501587\n",
      "Epoch 16, CIFAR-10 Batch 4:  Lost: 0.19832535088062286 - Accuracy: 0.699999988079071\n",
      "Epoch 16, CIFAR-10 Batch 5:  Lost: 0.18997527658939362 - Accuracy: 0.6899999976158142\n",
      "Epoch 17, CIFAR-10 Batch 1:  Lost: 0.2485511302947998 - Accuracy: 0.6935999989509583\n",
      "Epoch 17, CIFAR-10 Batch 2:  Lost: 0.1508752405643463 - Accuracy: 0.7107999920845032\n",
      "Epoch 17, CIFAR-10 Batch 3:  Lost: 0.14139096438884735 - Accuracy: 0.6937999725341797\n",
      "Epoch 17, CIFAR-10 Batch 4:  Lost: 0.1451413929462433 - Accuracy: 0.7085999846458435\n",
      "Epoch 17, CIFAR-10 Batch 5:  Lost: 0.10243638604879379 - Accuracy: 0.7148000001907349\n",
      "Epoch 18, CIFAR-10 Batch 1:  Lost: 0.17661496996879578 - Accuracy: 0.7039999961853027\n",
      "Epoch 18, CIFAR-10 Batch 2:  Lost: 0.13510888814926147 - Accuracy: 0.6976000070571899\n",
      "Epoch 18, CIFAR-10 Batch 3:  Lost: 0.11893828958272934 - Accuracy: 0.6966000199317932\n",
      "Epoch 18, CIFAR-10 Batch 4:  Lost: 0.11678081005811691 - Accuracy: 0.7093999981880188\n",
      "Epoch 18, CIFAR-10 Batch 5:  Lost: 0.13532662391662598 - Accuracy: 0.7102000117301941\n",
      "Epoch 19, CIFAR-10 Batch 1:  Lost: 0.17494511604309082 - Accuracy: 0.6985999941825867\n",
      "Epoch 19, CIFAR-10 Batch 2:  Lost: 0.09811585396528244 - Accuracy: 0.7034000158309937\n",
      "Epoch 19, CIFAR-10 Batch 3:  Lost: 0.10109147429466248 - Accuracy: 0.7021999955177307\n",
      "Epoch 19, CIFAR-10 Batch 4:  Lost: 0.12122496962547302 - Accuracy: 0.6890000104904175\n",
      "Epoch 19, CIFAR-10 Batch 5:  Lost: 0.09788382798433304 - Accuracy: 0.7002000212669373\n",
      "Epoch 20, CIFAR-10 Batch 1:  Lost: 0.15701107680797577 - Accuracy: 0.6776000261306763\n",
      "Epoch 20, CIFAR-10 Batch 2:  Lost: 0.13210096955299377 - Accuracy: 0.7020000219345093\n",
      "Epoch 20, CIFAR-10 Batch 3:  Lost: 0.12875866889953613 - Accuracy: 0.6998000144958496\n",
      "Epoch 20, CIFAR-10 Batch 4:  Lost: 0.0925111249089241 - Accuracy: 0.6998000144958496\n",
      "Epoch 20, CIFAR-10 Batch 5:  Lost: 0.06574476510286331 - Accuracy: 0.7034000158309937\n",
      "Epoch 21, CIFAR-10 Batch 1:  Lost: 0.09930917620658875 - Accuracy: 0.7013999819755554\n",
      "Epoch 21, CIFAR-10 Batch 2:  Lost: 0.11105088889598846 - Accuracy: 0.6967999935150146\n",
      "Epoch 21, CIFAR-10 Batch 3:  Lost: 0.07473380118608475 - Accuracy: 0.6985999941825867\n",
      "Epoch 21, CIFAR-10 Batch 4:  Lost: 0.11006341129541397 - Accuracy: 0.6922000050544739\n",
      "Epoch 21, CIFAR-10 Batch 5:  Lost: 0.06140897050499916 - Accuracy: 0.7129999995231628\n",
      "Epoch 22, CIFAR-10 Batch 1:  Lost: 0.059655629098415375 - Accuracy: 0.7009999752044678\n",
      "Epoch 22, CIFAR-10 Batch 2:  Lost: 0.08081736415624619 - Accuracy: 0.7008000016212463\n",
      "Epoch 22, CIFAR-10 Batch 3:  Lost: 0.07082559913396835 - Accuracy: 0.692799985408783\n",
      "Epoch 22, CIFAR-10 Batch 4:  Lost: 0.08814103901386261 - Accuracy: 0.6808000206947327\n",
      "Epoch 22, CIFAR-10 Batch 5:  Lost: 0.05171573534607887 - Accuracy: 0.7120000123977661\n",
      "Epoch 23, CIFAR-10 Batch 1:  Lost: 0.049273449927568436 - Accuracy: 0.7056000232696533\n",
      "Epoch 23, CIFAR-10 Batch 2:  Lost: 0.0663677528500557 - Accuracy: 0.6973999738693237\n",
      "Epoch 23, CIFAR-10 Batch 3:  Lost: 0.035305362194776535 - Accuracy: 0.698199987411499\n",
      "Epoch 23, CIFAR-10 Batch 4:  Lost: 0.06251828372478485 - Accuracy: 0.6890000104904175\n",
      "Epoch 23, CIFAR-10 Batch 5:  Lost: 0.11231449246406555 - Accuracy: 0.6926000118255615\n",
      "Epoch 24, CIFAR-10 Batch 1:  Lost: 0.045500170439481735 - Accuracy: 0.7124000191688538\n",
      "Epoch 24, CIFAR-10 Batch 2:  Lost: 0.060242556035518646 - Accuracy: 0.6876000165939331\n",
      "Epoch 24, CIFAR-10 Batch 3:  Lost: 0.044279467314481735 - Accuracy: 0.7135999798774719\n",
      "Epoch 24, CIFAR-10 Batch 4:  Lost: 0.05871700495481491 - Accuracy: 0.701200008392334\n",
      "Epoch 24, CIFAR-10 Batch 5:  Lost: 0.047117799520492554 - Accuracy: 0.7002000212669373\n",
      "Epoch 25, CIFAR-10 Batch 1:  Lost: 0.05110062286257744 - Accuracy: 0.7148000001907349\n",
      "Epoch 25, CIFAR-10 Batch 2:  Lost: 0.03305830806493759 - Accuracy: 0.6991999745368958\n",
      "Epoch 25, CIFAR-10 Batch 3:  Lost: 0.04035595431923866 - Accuracy: 0.7067999839782715\n",
      "Epoch 25, CIFAR-10 Batch 4:  Lost: 0.0356379859149456 - Accuracy: 0.7021999955177307\n",
      "Epoch 25, CIFAR-10 Batch 5:  Lost: 0.016562841832637787 - Accuracy: 0.7074000239372253\n",
      "Epoch 26, CIFAR-10 Batch 1:  Lost: 0.04704190045595169 - Accuracy: 0.7080000042915344\n",
      "Epoch 26, CIFAR-10 Batch 2:  Lost: 0.03759174793958664 - Accuracy: 0.7039999961853027\n",
      "Epoch 26, CIFAR-10 Batch 3:  Lost: 0.031828172504901886 - Accuracy: 0.7128000259399414\n",
      "Epoch 26, CIFAR-10 Batch 4:  Lost: 0.022399399429559708 - Accuracy: 0.6973999738693237\n",
      "Epoch 26, CIFAR-10 Batch 5:  Lost: 0.020608119666576385 - Accuracy: 0.7057999968528748\n",
      "Epoch 27, CIFAR-10 Batch 1:  Lost: 0.04477100074291229 - Accuracy: 0.698199987411499\n",
      "Epoch 27, CIFAR-10 Batch 2:  Lost: 0.025396984070539474 - Accuracy: 0.7056000232696533\n",
      "Epoch 27, CIFAR-10 Batch 3:  Lost: 0.026148004457354546 - Accuracy: 0.7102000117301941\n",
      "Epoch 27, CIFAR-10 Batch 4:  Lost: 0.03464385122060776 - Accuracy: 0.6904000043869019\n",
      "Epoch 27, CIFAR-10 Batch 5:  Lost: 0.027736051008105278 - Accuracy: 0.7089999914169312\n",
      "Epoch 28, CIFAR-10 Batch 1:  Lost: 0.032686371356248856 - Accuracy: 0.6830000281333923\n",
      "Epoch 28, CIFAR-10 Batch 2:  Lost: 0.027946127578616142 - Accuracy: 0.7016000151634216\n",
      "Epoch 28, CIFAR-10 Batch 3:  Lost: 0.01519713830202818 - Accuracy: 0.6953999996185303\n",
      "Epoch 28, CIFAR-10 Batch 4:  Lost: 0.024031775072216988 - Accuracy: 0.6894000172615051\n",
      "Epoch 28, CIFAR-10 Batch 5:  Lost: 0.021373668685555458 - Accuracy: 0.7157999873161316\n",
      "Epoch 29, CIFAR-10 Batch 1:  Lost: 0.024078188464045525 - Accuracy: 0.7034000158309937\n",
      "Epoch 29, CIFAR-10 Batch 2:  Lost: 0.016690552234649658 - Accuracy: 0.7034000158309937\n",
      "Epoch 29, CIFAR-10 Batch 3:  Lost: 0.026046738028526306 - Accuracy: 0.6904000043869019\n",
      "Epoch 29, CIFAR-10 Batch 4:  Lost: 0.033110424876213074 - Accuracy: 0.6904000043869019\n",
      "Epoch 29, CIFAR-10 Batch 5:  Lost: 0.012283782474696636 - Accuracy: 0.715399980545044\n",
      "Epoch 30, CIFAR-10 Batch 1:  Lost: 0.02501809038221836 - Accuracy: 0.7110000252723694\n",
      "Epoch 30, CIFAR-10 Batch 2:  Lost: 0.022212795913219452 - Accuracy: 0.7008000016212463\n",
      "Epoch 30, CIFAR-10 Batch 3:  Lost: 0.029002388939261436 - Accuracy: 0.6941999793052673\n",
      "Epoch 30, CIFAR-10 Batch 4:  Lost: 0.011392638087272644 - Accuracy: 0.7077999711036682\n",
      "Epoch 30, CIFAR-10 Batch 5:  Lost: 0.0217143464833498 - Accuracy: 0.6913999915122986\n"
     ]
    }
   ],
   "source": [
    "\"\"\"\n",
    "DON'T MODIFY ANYTHING IN THIS CELL\n",
    "\"\"\"\n",
    "save_model_path = './image_classification'\n",
    "\n",
    "print('Training...')\n",
    "with tf.Session() as sess:\n",
    "    # Initializing the variables\n",
    "    sess.run(tf.global_variables_initializer())\n",
    "    \n",
    "    # Training cycle\n",
    "    for epoch in range(epochs):\n",
    "        # Loop over all batches\n",
    "        n_batches = 5\n",
    "        for batch_i in range(1, n_batches + 1):\n",
    "            for batch_features, batch_labels in helper.load_preprocess_training_batch(batch_i, batch_size):\n",
    "                train_neural_network(sess, optimizer, keep_probability, batch_features, batch_labels)\n",
    "            print('Epoch {:>2}, CIFAR-10 Batch {}:  '.format(epoch + 1, batch_i), end='')\n",
    "            print_stats(sess, batch_features, batch_labels, cost, accuracy)\n",
    "            \n",
    "    # Save Model\n",
    "    saver = tf.train.Saver()\n",
    "    save_path = saver.save(sess, save_model_path)"
   ]
  },
  {
   "cell_type": "markdown",
   "metadata": {
    "deletable": true,
    "editable": true
   },
   "source": [
    "# Checkpoint\n",
    "The model has been saved to disk.\n",
    "## Test Model\n",
    "Test your model against the test dataset.  This will be your final accuracy. You should have an accuracy greater than 50%. If you don't, keep tweaking the model architecture and parameters."
   ]
  },
  {
   "cell_type": "code",
   "execution_count": 18,
   "metadata": {
    "collapsed": false,
    "deletable": true,
    "editable": true
   },
   "outputs": [
    {
     "name": "stdout",
     "output_type": "stream",
     "text": [
      "Testing Accuracy: 0.6882180601358414\n",
      "\n"
     ]
    },
    {
     "data": {
      "image/png": "[encoded data removed]",
      "text/plain": [
       "<matplotlib.figure.Figure at 0x7f03bb4fbf60>"
      ]
     },
     "metadata": {
      "image/png": {
       "height": 319,
       "width": 349
      }
     },
     "output_type": "display_data"
    }
   ],
   "source": [
    "\"\"\"\n",
    "DON'T MODIFY ANYTHING IN THIS CELL\n",
    "\"\"\"\n",
    "%matplotlib inline\n",
    "%config InlineBackend.figure_format = 'retina'\n",
    "\n",
    "import tensorflow as tf\n",
    "import pickle\n",
    "import helper\n",
    "import random\n",
    "\n",
    "# Set batch size if not already set\n",
    "try:\n",
    "    if batch_size:\n",
    "        pass\n",
    "except NameError:\n",
    "    batch_size = 64\n",
    "\n",
    "save_model_path = './image_classification'\n",
    "n_samples = 4\n",
    "top_n_predictions = 3\n",
    "\n",
    "def test_model():\n",
    "    \"\"\"\n",
    "    Test the saved model against the test dataset\n",
    "    \"\"\"\n",
    "\n",
    "    test_features, test_labels = pickle.load(open('preprocess_training.p', mode='rb'))\n",
    "    loaded_graph = tf.Graph()\n",
    "\n",
    "    with tf.Session(graph=loaded_graph) as sess:\n",
    "        # Load model\n",
    "        loader = tf.train.import_meta_graph(save_model_path + '.meta')\n",
    "        loader.restore(sess, save_model_path)\n",
    "\n",
    "        # Get Tensors from loaded model\n",
    "        loaded_x = loaded_graph.get_tensor_by_name('x:0')\n",
    "        loaded_y = loaded_graph.get_tensor_by_name('y:0')\n",
    "        loaded_keep_prob = loaded_graph.get_tensor_by_name('keep_prob:0')\n",
    "        loaded_logits = loaded_graph.get_tensor_by_name('logits:0')\n",
    "        loaded_acc = loaded_graph.get_tensor_by_name('accuracy:0')\n",
    "        \n",
    "        # Get accuracy in batches for memory limitations\n",
    "        test_batch_acc_total = 0\n",
    "        test_batch_count = 0\n",
    "        \n",
    "        for train_feature_batch, train_label_batch in helper.batch_features_labels(test_features, test_labels, batch_size):\n",
    "            test_batch_acc_total += sess.run(\n",
    "                loaded_acc,\n",
    "                feed_dict={loaded_x: train_feature_batch, loaded_y: train_label_batch, loaded_keep_prob: 1.0})\n",
    "            test_batch_count += 1\n",
    "\n",
    "        print('Testing Accuracy: {}\\n'.format(test_batch_acc_total/test_batch_count))\n",
    "\n",
    "        # Print Random Samples\n",
    "        random_test_features, random_test_labels = tuple(zip(*random.sample(list(zip(test_features, test_labels)), n_samples)))\n",
    "        random_test_predictions = sess.run(\n",
    "            tf.nn.top_k(tf.nn.softmax(loaded_logits), top_n_predictions),\n",
    "            feed_dict={loaded_x: random_test_features, loaded_y: random_test_labels, loaded_keep_prob: 1.0})\n",
    "        helper.display_image_predictions(random_test_features, random_test_labels, random_test_predictions)\n",
    "\n",
    "\n",
    "test_model()"
   ]
  },
  {
   "cell_type": "markdown",
   "metadata": {
    "deletable": true,
    "editable": true
   },
   "source": [
    "## Why 50-80% Accuracy?\n",
    "You might be wondering why you can't get an accuracy any higher. First things first, 50% isn't bad for a simple CNN.  Pure guessing would get you 10% accuracy. However, you might notice people are getting scores [well above 80%](http://rodrigob.github.io/are_we_there_yet/build/classification_datasets_results.html#43494641522d3130).  That's because we haven't taught you all there is to know about neural networks. We still need to cover a few more techniques.\n",
    "## Submitting This Project\n",
    "When submitting this project, make sure to run all the cells before saving the notebook.  Save the notebook file as \"dlnd_image_classification.ipynb\" and save it as a HTML file under \"File\" -> \"Download as\".  Include the \"helper.py\" and \"problem_unittests.py\" files in your submission."
   ]
  }
 ],
 "metadata": {
  "kernelspec": {
   "display_name": "Python [conda env:tensorflow]",
   "language": "python",
   "name": "conda-env-tensorflow-py"
  },
  "language_info": {
   "codemirror_mode": {
    "name": "ipython",
    "version": 3
   },
   "file_extension": ".py",
   "mimetype": "text/x-python",
   "name": "python",
   "nbconvert_exporter": "python",
   "pygments_lexer": "ipython3",
   "version": "3.5.3"
  }
 },
 "nbformat": 4,
 "nbformat_minor": 1
}
